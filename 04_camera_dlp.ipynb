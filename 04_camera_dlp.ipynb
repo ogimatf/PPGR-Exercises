{
 "cells": [
  {
   "cell_type": "code",
   "execution_count": 1,
   "metadata": {},
   "outputs": [],
   "source": [
    "import numpy as np"
   ]
  },
  {
   "cell_type": "code",
   "execution_count": 26,
   "metadata": {},
   "outputs": [],
   "source": [
    "def matrica_2x12(m, mp):\n",
    "    \n",
    "    M = np.zeros((2, 12))\n",
    "    \n",
    "    M[1][0] = mp[2] * m[0]\n",
    "    M[1][1] = mp[2] * m[1]\n",
    "    M[1][2] = mp[2] * m[2]\n",
    "    M[1][3] = mp[2] * m[3]\n",
    "    \n",
    "    M[0][4] = -mp[2] * m[0]\n",
    "    M[0][5] = -mp[2] * m[1]\n",
    "    M[0][6] = -mp[2] * m[2]\n",
    "    M[0][7] = -mp[2] * m[3]\n",
    "    \n",
    "    M[0][8] = mp[1] * m[0]\n",
    "    M[0][9] = mp[1] * m[1]\n",
    "    M[0][10] = mp[1] * m[2]\n",
    "    M[0][11] = mp[1] * m[3]\n",
    "    \n",
    "    M[1][8] = -mp[0] * m[0]\n",
    "    M[1][9] = -mp[0] * m[1]\n",
    "    M[1][10] = -mp[0] * m[2]\n",
    "    M[1][11] = -mp[0] * m[3]\n",
    "    \n",
    "    return M"
   ]
  },
  {
   "cell_type": "code",
   "execution_count": 38,
   "metadata": {},
   "outputs": [],
   "source": [
    "def CameraDLP(originali, slike):\n",
    "    \n",
    "    n = min(len(originali), len(slike))\n",
    "    \n",
    "    if(n < 6):\n",
    "        raise Exception(\"Broj korespodencija mora biti bar 6!\")\n",
    "        \n",
    "    niz_mi = []\n",
    "    \n",
    "    for i in range(n):\n",
    "        Mi = matrica_2x12(originali[i], slike[i])\n",
    "        niz_mi.append(Mi)\n",
    "    \n",
    "    M = np.stack(niz_mi)\n",
    "    M = M.reshape(2*n, 12)\n",
    "    \n",
    "    _, _, ut = np.linalg.svd(M)\n",
    "    \n",
    "    T = ut[-1]\n",
    "    T = T.reshape(3, 4)\n",
    "    \n",
    "    T /= T[0][0]\n",
    "    \n",
    "    return T"
   ]
  },
  {
   "cell_type": "code",
   "execution_count": 41,
   "metadata": {},
   "outputs": [
    {
     "name": "stdout",
     "output_type": "stream",
     "text": [
      "n = 11 \n",
      "\n",
      "Originali:\n",
      " [[460 280 250   1]\n",
      " [ 50 380 350   1]\n",
      " [470 500 100   1]\n",
      " [380 630 550   1]\n",
      " [330 290   0   1]\n",
      " [580   0 130   1]] \n",
      "\n",
      "Slike:\n",
      " [[288 251   1]\n",
      " [ 79 510   1]\n",
      " [470 440   1]\n",
      " [520 590   1]\n",
      " [365 388   1]\n",
      " [365  20   1]] \n",
      "\n",
      "Matrica projektovanja:\n",
      " [[     1.          -10.980019     33.956002  -9692.031703]\n",
      " [    26.740382    -10.754258     34.297142 -20328.274641]\n",
      " [     0.041676     -0.0073        0.072177    -46.836889]]\n"
     ]
    }
   ],
   "source": [
    "n = 11\n",
    "print(\"n =\", n, \"\\n\")\n",
    "\n",
    "M1 = [460, 280, 250, 1]\n",
    "M2 = [50, 380, 350, 1]\n",
    "M3 = [470, 500, 100, 1]\n",
    "M4 = [380, 630, 50 * n, 1]\n",
    "M5 = [30 * n, 290, 0, 1]\n",
    "M6 = [580, 0, 130, 1]\n",
    "\n",
    "M1p = [288, 251, 1]\n",
    "M2p = [79, 510, 1]\n",
    "M3p = [470, 440, 1]\n",
    "M4p = [520, 590, 1]\n",
    "M5p = [365, 388, 1]\n",
    "M6p = [365, 20, 1]\n",
    "\n",
    "originali = np.array([M1, M2, M3, M4, M5, M6])\n",
    "slike = np.array([M1p, M2p, M3p, M4p, M5p, M6p])\n",
    "\n",
    "print(\"Originali:\\n\", originali, \"\\n\")\n",
    "print(\"Slike:\\n\", slike, \"\\n\")\n",
    "\n",
    "T = CameraDLP(originali, slike)\n",
    "\n",
    "np.set_printoptions(suppress = True)\n",
    "print(\"Matrica projektovanja:\\n\", np.round(T, 6))"
   ]
  },
  {
   "cell_type": "code",
   "execution_count": 43,
   "metadata": {},
   "outputs": [
    {
     "name": "stdout",
     "output_type": "stream",
     "text": [
      "Originali:\n",
      " [[47  0  0  1]\n",
      " [33  0 14  1]\n",
      " [33 14  0  1]\n",
      " [ 7 31 26  1]\n",
      " [30 67  1  1]\n",
      " [40 55  5  1]] \n",
      "\n",
      "Slike:\n",
      " [[116 501   1]\n",
      " [200 321   1]\n",
      " [334 471   1]\n",
      " [660 160   1]\n",
      " [893 722   1]\n",
      " [687 707   1]] \n",
      "\n",
      "Matrica projektovanja:\n",
      " [[  1.        -0.447197   0.528591 -57.583285]\n",
      " [ -0.101754  -0.053828   1.151991 -39.999587]\n",
      " [  0.000839   0.000582   0.001083  -0.128826]]\n"
     ]
    }
   ],
   "source": [
    "M1 = [47, 0, 0, 1]\n",
    "M2 = [33, 0, 14, 1]\n",
    "M3 = [33, 14, 0, 1]\n",
    "M4 = [7, 31, 26, 1]\n",
    "M5 = [30, 67, 1, 1]\n",
    "M6 = [40, 55, 5, 1]\n",
    "\n",
    "M1p = [116, 501, 1]\n",
    "M2p = [200, 321, 1]\n",
    "M3p = [334, 471, 1]\n",
    "M4p = [660, 160, 1]\n",
    "M5p = [893, 722, 1]\n",
    "M6p = [687, 707, 1]\n",
    "\n",
    "originali = np.array([M1, M2, M3, M4, M5, M6])\n",
    "slike = np.array([M1p, M2p, M3p, M4p, M5p, M6p])\n",
    "\n",
    "print(\"Originali:\\n\", originali, \"\\n\")\n",
    "print(\"Slike:\\n\", slike, \"\\n\")\n",
    "\n",
    "T = CameraDLP(originali, slike)\n",
    "\n",
    "np.set_printoptions(suppress = True)\n",
    "print(\"Matrica projektovanja:\\n\", np.round(T, 6))"
   ]
  },
  {
   "cell_type": "code",
   "execution_count": null,
   "metadata": {},
   "outputs": [],
   "source": []
  }
 ],
 "metadata": {
  "kernelspec": {
   "display_name": "Python 3",
   "language": "python",
   "name": "python3"
  },
  "language_info": {
   "codemirror_mode": {
    "name": "ipython",
    "version": 3
   },
   "file_extension": ".py",
   "mimetype": "text/x-python",
   "name": "python",
   "nbconvert_exporter": "python",
   "pygments_lexer": "ipython3",
   "version": "3.8.2"
  }
 },
 "nbformat": 4,
 "nbformat_minor": 4
}

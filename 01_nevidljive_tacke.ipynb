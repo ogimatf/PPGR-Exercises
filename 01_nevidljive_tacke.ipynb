{
 "cells": [
  {
   "cell_type": "code",
   "execution_count": 2,
   "metadata": {},
   "outputs": [],
   "source": [
    "import numpy\n",
    "\n",
    "def afinize(P):\n",
    "    x = []\n",
    "    x.append(round(P[0]/P[2]))\n",
    "    x.append(round(P[1]/P[2]))\n",
    "    return x"
   ]
  },
  {
   "cell_type": "code",
   "execution_count": 16,
   "metadata": {},
   "outputs": [],
   "source": [
    "def nevidljive(P1, P2, P3, P5, P6, P7, P8):\n",
    "    \n",
    "    P1.append(1)\n",
    "    P2.append(1)\n",
    "    P3.append(1)\n",
    "    P5.append(1)\n",
    "    P6.append(1)\n",
    "    P7.append(1)\n",
    "    P8.append(1)\n",
    "    \n",
    "    Xb = numpy.cross(numpy.cross(P1, P5), numpy.cross(P3, P7))\n",
    "    Yb = numpy.cross(numpy.cross(P5, P6), numpy.cross(P7, P8))\n",
    "    \n",
    "    P4 = numpy.cross(numpy.cross(P8, Xb), numpy.cross(P3, Yb))\n",
    "    return afinize(P4)\n",
    "    "
   ]
  },
  {
   "cell_type": "code",
   "execution_count": 20,
   "metadata": {},
   "outputs": [
    {
     "name": "stdout",
     "output_type": "stream",
     "text": [
      "P4 = [487.0, 167.0]\n"
     ]
    }
   ],
   "source": [
    "p1 = [674.0, 274.0]\n",
    "p2 = [231.0, 538.0]\n",
    "p3 = [62.0, 309.0]\n",
    "p5 = [726.0, 125.0]\n",
    "p6 = [238.0, 321.0]\n",
    "p7 = [44.0, 122.0]\n",
    "p8 = [513.0, 38.0]\n",
    "\n",
    "print(\"P4 =\", nevidljive(p1, p2, p3, p5, p6, p7, p8))"
   ]
  },
  {
   "cell_type": "code",
   "execution_count": null,
   "metadata": {},
   "outputs": [],
   "source": []
  }
 ],
 "metadata": {
  "kernelspec": {
   "display_name": "Python 3",
   "language": "python",
   "name": "python3"
  },
  "language_info": {
   "codemirror_mode": {
    "name": "ipython",
    "version": 3
   },
   "file_extension": ".py",
   "mimetype": "text/x-python",
   "name": "python",
   "nbconvert_exporter": "python",
   "pygments_lexer": "ipython3",
   "version": "3.8.2"
  }
 },
 "nbformat": 4,
 "nbformat_minor": 4
}

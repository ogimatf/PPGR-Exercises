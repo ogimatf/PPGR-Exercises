{
 "cells": [
  {
   "cell_type": "code",
   "execution_count": 2,
   "metadata": {},
   "outputs": [],
   "source": [
    "import numpy as np\n",
    "import math\n",
    "import statistics"
   ]
  },
  {
   "cell_type": "code",
   "execution_count": 61,
   "metadata": {},
   "outputs": [],
   "source": [
    "def ParametriKamere(T):\n",
    "    \n",
    "    #print(T, \"\\n\")\n",
    "    \n",
    "    T0 = np.transpose(T)\n",
    "    T0 = np.transpose(T0[:3])\n",
    "    \n",
    "    if(np.linalg.det(T0) < 0):\n",
    "        T *= -1\n",
    "    \n",
    "    #odredjivanje C-a\n",
    "    C = []\n",
    "\n",
    "    #resavanje jednacina\n",
    "    for i in range(4): \n",
    "        tmp_T = np.delete(T, i, 1)\n",
    "        C.append((-1)**i * np.linalg.det(tmp_T))\n",
    "    \n",
    "    #4-ta kolona je samo za proveru\n",
    "    C = np.array(C)\n",
    "    C /= C[3]\n",
    "    C = C[:-1]\n",
    "    \n",
    "    #racunanje matrica K i C, QR dekompozicija\n",
    "    T0p = np.linalg.inv(T0)\n",
    "    \n",
    "    Q, R = np.linalg.qr(T0p)\n",
    "    \n",
    "    for(i in range(3)):\n",
    "        if(R[i][i] < 0):\n",
    "            R[0][i] *= -1\n",
    "            R[1][i] *= -1\n",
    "            R[2][i] *= -1\n",
    "            \n",
    "            Q[i][0] *= -1\n",
    "            Q[i][1] *= -1\n",
    "            Q[i][2] *= -1\n",
    "        \n",
    "    K = np.linalg.inv(R)\n",
    "    K /= K[2][2]\n",
    "    A = np.transpose(Q)\n",
    "    \n",
    "    return K, A, C"
   ]
  },
  {
   "cell_type": "code",
   "execution_count": 62,
   "metadata": {},
   "outputs": [
    {
     "name": "stdout",
     "output_type": "stream",
     "text": [
      "Pocetna matrica T:\n",
      " [[  5 -23   3 -15]\n",
      " [  0  -1   5  21]\n",
      " [  0  -1   0   1]] \n",
      "\n",
      "Dobijene matrice:\n",
      "\n",
      "K:\n",
      "[[  5.   3. -23.]\n",
      " [  0.   5.  -1.]\n",
      " [ -0.  -0.  -1.]] \n",
      "\n",
      "A:\n",
      "[[1. 0. 0.]\n",
      " [0. 0. 1.]\n",
      " [0. 1. 0.]] \n",
      "\n",
      "C:\n",
      "[10.  1. -4.] \n",
      "\n"
     ]
    }
   ],
   "source": [
    "T = np.array([[-5, 2, 0, 1], [3, 0, 2, -9], [1, 0, 0, -1]])\n",
    "\n",
    "n = 11\n",
    "T = np.array([[5, -1-2*n, 3, 18-3*n], [0, -1, 5, 21], [0, -1, 0, 1]])\n",
    "\n",
    "print(\"Pocetna matrica T:\\n\", T, \"\\n\")\n",
    "\n",
    "K, A, C = ParametriKamere(T)\n",
    "\n",
    "print(\"Dobijene matrice:\\n\")\n",
    "\n",
    "print(\"K:\")\n",
    "print(np.round(K, 4), \"\\n\")\n",
    "print(\"A:\")\n",
    "print(np.round(A, 4), \"\\n\")\n",
    "print(\"C:\")\n",
    "print(np.round(C, 4), \"\\n\")"
   ]
  },
  {
   "cell_type": "code",
   "execution_count": null,
   "metadata": {},
   "outputs": [],
   "source": []
  }
 ],
 "metadata": {
  "kernelspec": {
   "display_name": "Python 3",
   "language": "python",
   "name": "python3"
  },
  "language_info": {
   "codemirror_mode": {
    "name": "ipython",
    "version": 3
   },
   "file_extension": ".py",
   "mimetype": "text/x-python",
   "name": "python",
   "nbconvert_exporter": "python",
   "pygments_lexer": "ipython3",
   "version": "3.8.2"
  }
 },
 "nbformat": 4,
 "nbformat_minor": 4
}
